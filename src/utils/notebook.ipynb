{
 "cells": [
  {
   "cell_type": "code",
   "execution_count": 85,
   "id": "37888a1b",
   "metadata": {},
   "outputs": [
    {
     "name": "stdout",
     "output_type": "stream",
     "text": [
      "['2021107', '2021162', '2021197', '2021200', '2022228', '2022241', '2021528', '2022463', 'mt24018', 'mt24099', 'mt24029', 'mt24063', '2022490', '2022562', '2019457', '2022387', '2021457', '2022416', '2022473', 'mt24219', '2022514', 'mt24042', '2022461', '2021114', '2022225', '2022284', 'mt24133', '2022113', 'mt24002', 'mt24136', '2021019', '2021211', '2022395', '2021533', '2021545', '2022541', 'mt23010', 'phd23011', 'phd23012', 'phd24105', '2022170', '2022399', 'mt24100', '2021540', '2021563', '2022077', '2022079', '2022392', '2022506', 'mt24012', 'mt24066', 'phd24001', '2021111', '2022586', '2022249', 'mt24142', '2020541', '2021218', '2021521', '2021562', '2022103', '2022159', '2022273', '2022294', '2022338', '2022434', '2022482', '2022529', '2022544', '2022569', '2022606', 'mt23019', 'mt24024', 'mt24033', 'mt24064', 'mt24127', '2021526', '2021550', '2021555', '2022431', '2022522', 'mt23125', '2022074', 'mt24001', 'mt24108', '2021036', '2021532', '2021573', '2022019', '2022097', '2022213', '2022310', '2022408', '2022505', 'mt24027', 'mt24147']\n"
     ]
    }
   ],
   "source": [
    "import pandas as pd\n",
    "from sklearn.metrics import confusion_matrix, ConfusionMatrixDisplay, accuracy_score, precision_score, recall_score, f1_score\n",
    "import os\n",
    "\n",
    "import json\n",
    "with open(\"students_details.json\") as f:\n",
    "    data = json.load(f)\n",
    "\n",
    "all_rolls = list(i.lower() for i in data.keys())\n",
    "\n",
    "print(all_rolls)"
   ]
  },
  {
   "cell_type": "code",
   "execution_count": 93,
   "id": "c7e80b37",
   "metadata": {},
   "outputs": [],
   "source": [
    "def get_metrics(gt, pred, thresh=1.0, all_rolls=None):\n",
    "    # Load CSVs\n",
    "    gt_df = pd.read_csv(gt, header=0)\n",
    "    pred_df = pd.read_csv(pred, header=0)\n",
    "    orig_df = len(pred_df)\n",
    "    # Ground truth rolls\n",
    "    gt_set = set(i.lower() for i in gt_df[\"Roll\"].astype(str))\n",
    "\n",
    "    # Filter predictions using the threshold\n",
    "    # print(sum(pred_df[\"Score\"] < thresh))\n",
    "    pred_df = pred_df[pred_df[\"Score\"] < thresh]\n",
    "    pred_set = set(i.lower() for i in pred_df[\"Roll\"].astype(str))\n",
    "\n",
    "    # print(f\"{len(pred_set)}/{orig_df}\")\n",
    "    # Union of all roll numbers\n",
    "    all_rolls = sorted(all_rolls)\n",
    "\n",
    "    # Labels\n",
    "    y_true = [1 if roll in gt_set else 0 for roll in all_rolls]\n",
    "    y_pred = [1 if roll in pred_set else 0 for roll in all_rolls]\n",
    "\n",
    "    # Metrics\n",
    "    cm = confusion_matrix(y_true, y_pred)\n",
    "    accuracy = accuracy_score(y_true, y_pred)\n",
    "    precision = precision_score(y_true, y_pred)\n",
    "    recall = recall_score(y_true, y_pred)\n",
    "    f1 = f1_score(y_true, y_pred)\n",
    "\n",
    "    return {\"cm\" : cm,\n",
    "    \"accuracy\" : accuracy,\n",
    "    \"precision\" : precision,\n",
    "    \"recall\" : recall,\n",
    "    \"f1\" : f1\n",
    "    }\n",
    "\n",
    "\n",
    "def get_avg_scores(scores):\n",
    "    # Calculate averages for each metric\n",
    "    average_scores = {\n",
    "        \"accuracy\": sum(score[\"accuracy\"] for score in scores) / len(scores),\n",
    "        \"precision\": sum(score[\"precision\"] for score in scores) / len(scores),\n",
    "        \"recall\": sum(score[\"recall\"] for score in scores) / len(scores),\n",
    "        \"f1\": sum(score[\"f1\"] for score in scores) / len(scores)\n",
    "    }\n",
    "\n",
    "    # Display the final result\n",
    "    print(\"Final Average Scores:\")\n",
    "    for metric, value in average_scores.items():\n",
    "        print(f\"{metric.capitalize()}: {value:.3f}\")"
   ]
  },
  {
   "cell_type": "code",
   "execution_count": 94,
   "id": "bdada378",
   "metadata": {},
   "outputs": [],
   "source": [
    "# # # gt = 'attendance_data/gt_18_Feb.csv'\n",
    "# # # pred = 'attendance_data/attendance_18_Feb.csv'\n",
    "# # gt = 'attendance_data/test_gt_18_Feb.csv'\n",
    "# # pred = 'attendance_data/test_attendance_18_Feb.csv'\n",
    "# # get_metrics(gt, pred)\n",
    "# folder_path = 'attendance_data'\n",
    "# all_files = os.listdir(folder_path)\n",
    "# all_files = [os.path.join(folder_path, f) for f in all_files]\n",
    "# gt_files = [f for f in all_files if os.path.basename(f).startswith('gt_')]\n",
    "# attendance_files = [f for f in all_files if os.path.basename(f).startswith('attendance_')]\n",
    "\n",
    "# def extract_date_key(filename):\n",
    "#     return filename.split('_')[-2].lower() + \"_\" + filename.split('_')[-1].lower().replace('.csv', '')\n",
    "\n",
    "# gt_dict = {extract_date_key(f): f for f in gt_files}\n",
    "# attendance_dict = {extract_date_key(f): f for f in attendance_files}\n",
    "\n",
    "# # Get pairs\n",
    "# common_keys = sorted(set(gt_dict.keys()) & set(attendance_dict.keys()))\n",
    "# pairs = [(gt_dict[k], attendance_dict[k]) for k in common_keys]\n",
    "\n",
    "# scores = []\n",
    "# for gt_file, att_file in pairs:\n",
    "#     print(f\"GT: {gt_file}  <->  Attendance: {att_file}\")\n",
    "#     df = get_metrics(gt_file, att_file)\n",
    "#     scores.append(df)\n",
    "\n",
    "# # Calculate averages for each metric\n",
    "# average_scores = {\n",
    "#     \"accuracy\": sum(score[\"accuracy\"] for score in scores) / len(scores),\n",
    "#     \"precision\": sum(score[\"precision\"] for score in scores) / len(scores),\n",
    "#     \"recall\": sum(score[\"recall\"] for score in scores) / len(scores),\n",
    "#     \"f1\": sum(score[\"f1\"] for score in scores) / len(scores)\n",
    "# }\n",
    "\n",
    "# # Display the final result\n",
    "# print(\"Final Average Scores:\")\n",
    "# for metric, value in average_scores.items():\n",
    "#     print(f\"{metric.capitalize()}: {value:.3f}\")"
   ]
  },
  {
   "cell_type": "code",
   "execution_count": 95,
   "id": "d9d056ed",
   "metadata": {},
   "outputs": [],
   "source": [
    "import os\n",
    "from glob import glob"
   ]
  },
  {
   "cell_type": "code",
   "execution_count": 96,
   "id": "14fafb59",
   "metadata": {},
   "outputs": [
    {
     "name": "stdout",
     "output_type": "stream",
     "text": [
      "Missing file in: 07_Jan\n",
      "Missing file in: 16_Jan\n",
      "Missing file in: 20_Feb\n",
      "{'cm': array([[27,  5],\n",
      "       [18, 46]], dtype=int64), 'accuracy': 0.7604166666666666, 'precision': 0.9019607843137255, 'recall': 0.71875, 'f1': 0.8}\n",
      "{'cm': array([[29,  4],\n",
      "       [14, 49]], dtype=int64), 'accuracy': 0.8125, 'precision': 0.9245283018867925, 'recall': 0.7777777777777778, 'f1': 0.8448275862068966}\n",
      "{'cm': array([[28,  4],\n",
      "       [41, 23]], dtype=int64), 'accuracy': 0.53125, 'precision': 0.8518518518518519, 'recall': 0.359375, 'f1': 0.5054945054945055}\n",
      "{'cm': array([[20,  4],\n",
      "       [30, 42]], dtype=int64), 'accuracy': 0.6458333333333334, 'precision': 0.9130434782608695, 'recall': 0.5833333333333334, 'f1': 0.711864406779661}\n",
      "{'cm': array([[28,  1],\n",
      "       [18, 49]], dtype=int64), 'accuracy': 0.8020833333333334, 'precision': 0.98, 'recall': 0.7313432835820896, 'f1': 0.8376068376068376}\n",
      "{'cm': array([[17,  0],\n",
      "       [23, 56]], dtype=int64), 'accuracy': 0.7604166666666666, 'precision': 1.0, 'recall': 0.7088607594936709, 'f1': 0.8296296296296296}\n",
      "{'cm': array([[32,  1],\n",
      "       [17, 46]], dtype=int64), 'accuracy': 0.8125, 'precision': 0.9787234042553191, 'recall': 0.7301587301587301, 'f1': 0.8363636363636363}\n",
      "{'cm': array([[22, 10],\n",
      "       [21, 43]], dtype=int64), 'accuracy': 0.6770833333333334, 'precision': 0.8113207547169812, 'recall': 0.671875, 'f1': 0.7350427350427351}\n",
      "{'cm': array([[20,  3],\n",
      "       [18, 55]], dtype=int64), 'accuracy': 0.78125, 'precision': 0.9482758620689655, 'recall': 0.7534246575342466, 'f1': 0.8396946564885496}\n",
      "{'cm': array([[20,  4],\n",
      "       [12, 60]], dtype=int64), 'accuracy': 0.8333333333333334, 'precision': 0.9375, 'recall': 0.8333333333333334, 'f1': 0.8823529411764706}\n",
      "{'cm': array([[26,  3],\n",
      "       [ 9, 58]], dtype=int64), 'accuracy': 0.875, 'precision': 0.9508196721311475, 'recall': 0.8656716417910447, 'f1': 0.90625}\n",
      "Final Average Scores:\n",
      "Accuracy: 0.754\n",
      "Precision: 0.927\n",
      "Recall: 0.703\n",
      "F1: 0.794\n"
     ]
    }
   ],
   "source": [
    "#goal - to find accuracy for both the algo, greedy filter and simple filter\n",
    "csv_folder = \"../attendance_by_date\"\n",
    "\n",
    "pairs = []\n",
    "for date in os.listdir(csv_folder):\n",
    "    # print(date)\n",
    "    date_path = os.path.join(csv_folder, date)\n",
    "    try:\n",
    "        pred = glob(f\"{date_path}/*greedy*\")[0]\n",
    "        gt = glob(f\"{date_path}/gt*\")[0]\n",
    "    except:\n",
    "        print(f\"Missing file in: {date}\")\n",
    "        continue\n",
    "    # print(pred, gt)\n",
    "    pairs.append([gt, pred])\n",
    "# print(pairs)\n",
    "\n",
    "scores = []\n",
    "for gt_file, att_file in pairs:\n",
    "    # print(f\"GT: {gt_file}  <->  Attendance: {att_file}\")\n",
    "    df = get_metrics(gt_file, att_file, thresh=0.3, all_rolls=all_rolls)\n",
    "    scores.append(df)\n",
    "    print(df)\n",
    "\n",
    "get_avg_scores(scores)"
   ]
  },
  {
   "cell_type": "code",
   "execution_count": 123,
   "id": "ad4d9736",
   "metadata": {},
   "outputs": [
    {
     "name": "stdout",
     "output_type": "stream",
     "text": [
      "Missing file in: 07_Jan\n",
      "Missing file in: 16_Jan\n",
      "Missing file in: 20_Feb\n",
      "Final Average Scores:\n",
      "Accuracy: 0.638\n",
      "Precision: 0.984\n",
      "Recall: 0.494\n",
      "F1: 0.649\n"
     ]
    }
   ],
   "source": [
    "#goal - to find accuracy for both the algo, greedy filter and simple filter\n",
    "csv_folder = \"../attendance_by_date\"\n",
    "\n",
    "pairs = []\n",
    "for date in os.listdir(csv_folder):\n",
    "    # print(date)\n",
    "    date_path = os.path.join(csv_folder, date)\n",
    "    try:\n",
    "        pred = glob(f\"{date_path}/*simple*\")[0]\n",
    "        gt = glob(f\"{date_path}/gt*\")[0]\n",
    "    except:\n",
    "        print(f\"Missing file in: {date}\")\n",
    "        continue\n",
    "    # print(pred, gt)\n",
    "    pairs.append([gt, pred])\n",
    "# print(pairs)\n",
    "\n",
    "scores = []\n",
    "for gt_file, att_file in pairs:\n",
    "    # print(f\"GT: {gt_file}  <->  Attendance: {att_file}\")\n",
    "    df = get_metrics(gt_file, att_file, thresh=0.2, all_rolls=all_rolls)\n",
    "    scores.append(df)\n",
    "\n",
    "get_avg_scores(scores)"
   ]
  },
  {
   "cell_type": "code",
   "execution_count": 124,
   "id": "02660b8c",
   "metadata": {},
   "outputs": [],
   "source": [
    "tn = sum([s['cm'][0][0] for s in scores]) # shouldnt be there, arent there\n",
    "fp = sum([s['cm'][0][1] for s in scores]) # should not be there, are there\n",
    "fn = sum([s['cm'][1][0] for s in scores]) # not there, not there\n",
    "tp = sum([s['cm'][1][1] for s in scores]) # there, there"
   ]
  },
  {
   "cell_type": "code",
   "execution_count": 135,
   "id": "7cab98d3",
   "metadata": {},
   "outputs": [
    {
     "data": {
      "text/plain": [
       "Text(0.5, 1.0, 'Acc: 0.64')"
      ]
     },
     "execution_count": 135,
     "metadata": {},
     "output_type": "execute_result"
    },
    {
     "data": {
      "image/png": "[encoded data removed]",
      "text/plain": [
       "<Figure size 640x480 with 2 Axes>"
      ]
     },
     "metadata": {},
     "output_type": "display_data"
    }
   ],
   "source": [
    "disp = ConfusionMatrixDisplay(np.array([[tn, fp],[fn, tp]]))\n",
    "disp.plot(cmap='viridis')\n",
    "plt.title(f\"Acc: {(tp+tn)/(tp+tn+fp+fn):.2f}\")"
   ]
  },
  {
   "cell_type": "code",
   "execution_count": null,
   "id": "5bc17760",
   "metadata": {},
   "outputs": [
    {
     "data": {
      "text/plain": [
       "0.6382575757575758"
      ]
     },
     "execution_count": 133,
     "metadata": {},
     "output_type": "execute_result"
    }
   ],
   "source": []
  },
  {
   "cell_type": "code",
   "execution_count": 102,
   "id": "bd2c69c2",
   "metadata": {},
   "outputs": [],
   "source": [
    "#goal - to find accuracy for both the algo, greedy filter and simple filter\n",
    "csv_folder = \"../attendance_by_date\"\n",
    "\n",
    "pairs = []\n",
    "for date in os.listdir(csv_folder):\n",
    "    # print(date)\n",
    "    date_path = os.path.join(csv_folder, date)\n",
    "    try:\n",
    "        pred = glob(f\"{date_path}/*greedy*\")[0]\n",
    "        gt = glob(f\"{date_path}/gt*\")[0]\n",
    "    except:\n",
    "        # print(f\"Missing file in: {date}\")\n",
    "        pass\n",
    "        continue\n",
    "    # print(pred, gt)\n",
    "    pairs.append([gt, pred])\n",
    "# print(pairs)"
   ]
  },
  {
   "cell_type": "code",
   "execution_count": 116,
   "id": "0ec83cbc",
   "metadata": {},
   "outputs": [
    {
     "name": "stdout",
     "output_type": "stream",
     "text": [
      "0.0\n",
      "fp: 0\n",
      "= 0.0 1.0\n",
      "0.1\n",
      "fp: 0\n",
      "= 0.0 0.8502673796791443\n",
      "0.2\n"
     ]
    },
    {
     "name": "stderr",
     "output_type": "stream",
     "text": [
      "c:\\Users\\verma\\miniconda3\\envs\\torch\\lib\\site-packages\\sklearn\\metrics\\_classification.py:1531: UndefinedMetricWarning: Precision is ill-defined and being set to 0.0 due to no predicted samples. Use `zero_division` parameter to control this behavior.\n",
      "  _warn_prf(average, modifier, f\"{metric.capitalize()} is\", len(result))\n",
      "c:\\Users\\verma\\miniconda3\\envs\\torch\\lib\\site-packages\\sklearn\\metrics\\_classification.py:1531: UndefinedMetricWarning: Precision is ill-defined and being set to 0.0 due to no predicted samples. Use `zero_division` parameter to control this behavior.\n",
      "  _warn_prf(average, modifier, f\"{metric.capitalize()} is\", len(result))\n",
      "c:\\Users\\verma\\miniconda3\\envs\\torch\\lib\\site-packages\\sklearn\\metrics\\_classification.py:1531: UndefinedMetricWarning: Precision is ill-defined and being set to 0.0 due to no predicted samples. Use `zero_division` parameter to control this behavior.\n",
      "  _warn_prf(average, modifier, f\"{metric.capitalize()} is\", len(result))\n",
      "c:\\Users\\verma\\miniconda3\\envs\\torch\\lib\\site-packages\\sklearn\\metrics\\_classification.py:1531: UndefinedMetricWarning: Precision is ill-defined and being set to 0.0 due to no predicted samples. Use `zero_division` parameter to control this behavior.\n",
      "  _warn_prf(average, modifier, f\"{metric.capitalize()} is\", len(result))\n",
      "c:\\Users\\verma\\miniconda3\\envs\\torch\\lib\\site-packages\\sklearn\\metrics\\_classification.py:1531: UndefinedMetricWarning: Precision is ill-defined and being set to 0.0 due to no predicted samples. Use `zero_division` parameter to control this behavior.\n",
      "  _warn_prf(average, modifier, f\"{metric.capitalize()} is\", len(result))\n",
      "c:\\Users\\verma\\miniconda3\\envs\\torch\\lib\\site-packages\\sklearn\\metrics\\_classification.py:1531: UndefinedMetricWarning: Precision is ill-defined and being set to 0.0 due to no predicted samples. Use `zero_division` parameter to control this behavior.\n",
      "  _warn_prf(average, modifier, f\"{metric.capitalize()} is\", len(result))\n",
      "c:\\Users\\verma\\miniconda3\\envs\\torch\\lib\\site-packages\\sklearn\\metrics\\_classification.py:1531: UndefinedMetricWarning: Precision is ill-defined and being set to 0.0 due to no predicted samples. Use `zero_division` parameter to control this behavior.\n",
      "  _warn_prf(average, modifier, f\"{metric.capitalize()} is\", len(result))\n",
      "c:\\Users\\verma\\miniconda3\\envs\\torch\\lib\\site-packages\\sklearn\\metrics\\_classification.py:1531: UndefinedMetricWarning: Precision is ill-defined and being set to 0.0 due to no predicted samples. Use `zero_division` parameter to control this behavior.\n",
      "  _warn_prf(average, modifier, f\"{metric.capitalize()} is\", len(result))\n",
      "c:\\Users\\verma\\miniconda3\\envs\\torch\\lib\\site-packages\\sklearn\\metrics\\_classification.py:1531: UndefinedMetricWarning: Precision is ill-defined and being set to 0.0 due to no predicted samples. Use `zero_division` parameter to control this behavior.\n",
      "  _warn_prf(average, modifier, f\"{metric.capitalize()} is\", len(result))\n",
      "c:\\Users\\verma\\miniconda3\\envs\\torch\\lib\\site-packages\\sklearn\\metrics\\_classification.py:1531: UndefinedMetricWarning: Precision is ill-defined and being set to 0.0 due to no predicted samples. Use `zero_division` parameter to control this behavior.\n",
      "  _warn_prf(average, modifier, f\"{metric.capitalize()} is\", len(result))\n",
      "c:\\Users\\verma\\miniconda3\\envs\\torch\\lib\\site-packages\\sklearn\\metrics\\_classification.py:1531: UndefinedMetricWarning: Precision is ill-defined and being set to 0.0 due to no predicted samples. Use `zero_division` parameter to control this behavior.\n",
      "  _warn_prf(average, modifier, f\"{metric.capitalize()} is\", len(result))\n"
     ]
    },
    {
     "name": "stdout",
     "output_type": "stream",
     "text": [
      "fp: 3\n",
      "= 0.00974025974025974 0.5053475935828877\n",
      "0.3\n",
      "fp: 39\n",
      "= 0.1266233766233766 0.29545454545454547\n",
      "0.4\n",
      "fp: 123\n",
      "= 0.39935064935064934 0.1590909090909091\n",
      "0.5\n",
      "fp: 202\n",
      "= 0.6558441558441559 0.08288770053475936\n",
      "0.6\n",
      "fp: 228\n",
      "= 0.7402597402597403 0.05213903743315508\n",
      "0.7\n",
      "fp: 230\n",
      "= 0.7467532467532467 0.0427807486631016\n",
      "0.8\n",
      "fp: 230\n",
      "= 0.7467532467532467 0.0427807486631016\n",
      "0.9\n",
      "fp: 230\n",
      "= 0.7467532467532467 0.0427807486631016\n"
     ]
    }
   ],
   "source": [
    "frr_thres = []\n",
    "far_thres = []\n",
    "thresh_list = []\n",
    "for thresh in range(0, 100, 10):\n",
    "    thresh = thresh/100\n",
    "    thresh_list.append(thresh)\n",
    "    \n",
    "    print(thresh)\n",
    "    scores = []\n",
    "    for gt_file, att_file in pairs:\n",
    "        # print(f\"GT: {gt_file}  <->  Attendance: {att_file}\")\n",
    "        df = get_metrics(gt_file, att_file, thresh=thresh, all_rolls=all_rolls)\n",
    "        scores.append(df)\n",
    "    # get_avg_scores(scores)\n",
    "    tn = sum([s['cm'][0][0] for s in scores]) # shouldnt be there, arent there\n",
    "    fp = sum([s['cm'][0][1] for s in scores]) # should not be there, are there\n",
    "    fn = sum([s['cm'][1][0] for s in scores]) # not there, not there\n",
    "    tp = sum([s['cm'][1][1] for s in scores]) # there, there\n",
    "    tn, fp, tp, fn\n",
    "\n",
    "    print(\"fp:\", fp)\n",
    "    frr = fn / (tp+fn)\n",
    "    far = fp / (tn+fp)\n",
    "    print(\"=\",far, frr)\n",
    "    frr_thres.append(frr)\n",
    "    far_thres.append(far)\n",
    "\n"
   ]
  },
  {
   "cell_type": "code",
   "execution_count": 105,
   "id": "ba12c6f0",
   "metadata": {},
   "outputs": [],
   "source": [
    "import matplotlib.pyplot as plt"
   ]
  },
  {
   "cell_type": "code",
   "execution_count": 119,
   "id": "72e94a30",
   "metadata": {},
   "outputs": [
    {
     "name": "stdout",
     "output_type": "stream",
     "text": [
      "EER: 0.211 at threshold: 0.3\n"
     ]
    }
   ],
   "source": [
    "import numpy as np\n",
    "\n",
    "def compute_eer(far_list, frr_list, thresholds):\n",
    "    far_arr = np.array(far_list)\n",
    "    frr_arr = np.array(frr_list)\n",
    "    thresholds = np.array(thresholds)\n",
    "\n",
    "    # Find index where FAR and FRR are closest\n",
    "    idx = np.argmin(np.abs(far_arr - frr_arr))\n",
    "\n",
    "    eer = (far_arr[idx] + frr_arr[idx]) / 2\n",
    "    eer_threshold = thresholds[idx]\n",
    "\n",
    "    return eer, eer_threshold\n",
    "\n",
    "thresholds = thresh_list\n",
    "\n",
    "eer, eer_thresh = compute_eer(far_thres, frr_thres, thresholds)\n",
    "print(f\"EER: {eer:.3f} at threshold: {eer_thresh}\")"
   ]
  },
  {
   "cell_type": "code",
   "execution_count": 122,
   "id": "90335da7",
   "metadata": {},
   "outputs": [
    {
     "data": {
      "text/plain": [
       "Text(0.5, 1.0, 'FRR FAR Curve: EER 0.21 at 0.3')"
      ]
     },
     "execution_count": 122,
     "metadata": {},
     "output_type": "execute_result"
    },
    {
     "data": {
      "image/png": "[encoded data removed]",
      "text/plain": [
       "<Figure size 640x480 with 1 Axes>"
      ]
     },
     "metadata": {},
     "output_type": "display_data"
    }
   ],
   "source": [
    "plt.plot(thresh_list, frr_thres, label=\"FRR\")\n",
    "plt.plot(thresh_list, far_thres, label=\"FAR\")\n",
    "plt.legend()\n",
    "plt.title(f\"FRR FAR Curve: EER {eer:.2f} at {eer_thresh}\")"
   ]
  },
  {
   "cell_type": "code",
   "execution_count": null,
   "id": "3dda0eb7",
   "metadata": {},
   "outputs": [],
   "source": []
  }
 ],
 "metadata": {
  "kernelspec": {
   "display_name": "torch",
   "language": "python",
   "name": "python3"
  },
  "language_info": {
   "codemirror_mode": {
    "name": "ipython",
    "version": 3
   },
   "file_extension": ".py",
   "mimetype": "text/x-python",
   "name": "python",
   "nbconvert_exporter": "python",
   "pygments_lexer": "ipython3",
   "version": "3.10.14"
  }
 },
 "nbformat": 4,
 "nbformat_minor": 5
}
